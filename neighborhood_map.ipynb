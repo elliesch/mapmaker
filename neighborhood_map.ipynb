{
 "cells": [
  {
   "cell_type": "code",
   "execution_count": 1,
   "metadata": {},
   "outputs": [
    {
     "name": "stdout",
     "output_type": "stream",
     "text": [
      "Using matplotlib backend: TkAgg\n",
      "Populating the interactive namespace from numpy and matplotlib\n"
     ]
    }
   ],
   "source": [
    "%pylab"
   ]
  },
  {
   "cell_type": "code",
   "execution_count": 2,
   "metadata": {},
   "outputs": [],
   "source": [
    "import pandas as pd\n",
    "import numpy as np\n",
    "\n",
    "import matplotlib.pyplot as plt\n",
    "from mpl_toolkits.mplot3d import Axes3D\n",
    "import matplotlib.animation as animation\n",
    "\n",
    "import itertools"
   ]
  },
  {
   "cell_type": "code",
   "execution_count": 3,
   "metadata": {},
   "outputs": [],
   "source": [
    "description_font = {'fontname':'Courier New'}"
   ]
  },
  {
   "cell_type": "code",
   "execution_count": 4,
   "metadata": {},
   "outputs": [],
   "source": [
    "#defining our dataframes\n",
    "df = pd.read_csv('planets.csv')\n",
    "\n",
    "exodf = df.loc[(df['st_mass']<= 0.6) & (df['st_teff'] < 6000) & (df['pl_orbsmax'] > 0)]\n",
    "\n",
    "stardf = df.drop_duplicates('pl_hostname')\n",
    "stardf = stardf.loc[(stardf['st_mass']<= 0.6) & (stardf['st_teff'] < 6000) & (stardf['pl_orbsmax'] > 0)]"
   ]
  },
  {
   "cell_type": "code",
   "execution_count": 5,
   "metadata": {},
   "outputs": [],
   "source": [
    "#cleaning and defining our data\n",
    "bitwise_mask = (np.isfinite(stardf['st_dist'])) & (np.isfinite(stardf['st_mass'])) & (np.isfinite(stardf['st_teff']))\n",
    "bitwise_mask_2 = (np.isfinite(exodf['st_dist'])) & (np.isfinite(exodf['st_mass'])) & (np.isfinite(exodf['st_teff']))\n",
    "\n",
    "ra = stardf['ra'].loc[bitwise_mask]\n",
    "dec = stardf['dec'].loc[bitwise_mask]\n",
    "distance = stardf['st_dist'].loc[bitwise_mask] \n",
    "stellar_mass = stardf['st_mass'].loc[bitwise_mask]\n",
    "teff = stardf['st_teff'].loc[bitwise_mask]\n",
    "star_name = exodf['pl_hostname']\n",
    "\n",
    "x = distance * np.cos(dec) * np.cos(ra)\n",
    "y = distance * np.cos(dec) * np.sin(ra)\n",
    "z = distance * np.sin(dec)\n",
    "\n",
    "#axes limits for on_key codes\n",
    "a = -300\n",
    "b = 300\n",
    "c = a\n",
    "d = b\n",
    "e = a\n",
    "f = b\n",
    "\n",
    "labels_column = star_name\n",
    "labels = labels_column.values\n",
    "\n",
    "colors = itertools.cycle(['#42f4bf', 'green', 'blue']) "
   ]
  },
  {
   "cell_type": "code",
   "execution_count": 6,
   "metadata": {},
   "outputs": [],
   "source": [
    "def zoom_fun(event):\n",
    "\n",
    "    '''\n",
    "    This code was written by Debjani Das and Laura Valdez for the #TeamExoplanets \n",
    "    internship at the American Museum of Natural History\n",
    "    '''\n",
    "\n",
    "    base_scale =1.5\n",
    "    \n",
    "    # get the current x and y limits\n",
    "    cur_xlim = ax.get_xlim()\n",
    "    cur_ylim = ax.get_ylim()\n",
    "    cur_xrange = (cur_xlim[1] - cur_xlim[0])*.5\n",
    "    cur_yrange = (cur_ylim[1] - cur_ylim[0])*.5\n",
    "    xdata = event.xdata # get event x location\n",
    "    ydata = event.ydata # get event y location\n",
    "    if event.button == 'up':\n",
    "        # deal with zoom in\n",
    "        scale_factor = 1/base_scale\n",
    "    elif event.button == 'down':\n",
    "        # deal with zoom out\n",
    "        scale_factor = base_scale\n",
    "    else:\n",
    "        # deal with something that should never happen\n",
    "        scale_factor = 1\n",
    "        print (event.button)\n",
    "    # set new limits\n",
    "    ax.set_xlim([xdata - cur_xrange*scale_factor,\n",
    "                 xdata + cur_xrange*scale_factor])\n",
    "    ax.set_ylim([ydata - cur_yrange*scale_factor,\n",
    "                 ydata + cur_yrange*scale_factor])\n",
    "    plt.draw() # force re-draw"
   ]
  },
  {
   "cell_type": "code",
   "execution_count": 7,
   "metadata": {},
   "outputs": [],
   "source": [
    "def panning_fun(event): \n",
    "\n",
    "    '''\n",
    "    This code was written by Debjani Das and Laura Valdez for the #TeamExoplanets \n",
    "    internship at the American Museum of Natural History\n",
    "    '''\n",
    "\n",
    "    if event.key == 'left': #if the key pressed is the left arrow\n",
    "        global a #tells our function that we defined 'a' outside of the function\n",
    "        global b #^\n",
    "        a = a-50 #subtracts 50 from the value of a each time the key is pressed\n",
    "        b = b-50 #^\n",
    "        ax.set_xlim([a,b]) #resets the x-axis limits to new 'a' and 'b'\n",
    "        plt.show() #re-shows the plot so we can see the change in axis\n",
    "\n",
    "    if event.key == 'right': #if the key pressed is the right arrow\n",
    "        a = a+50 #adds 50 from the value of a each time the key is pressed\n",
    "        b = b+50 #^\n",
    "        ax.set_xlim([a,b]) #resets the x-axis limits to new 'a' and 'b'\n",
    "        plt.show() #re-shows the plot so we can see the change in axis\n",
    "\n",
    "    if event.key == 'down': #if the key pressed is the down arrow\n",
    "        global c #tells our function that we defined 'c' outside of the function\n",
    "        global d #^\n",
    "        c = c-50 #subtracts 50 from the value of a each time the key is pressed\n",
    "        d = d-50 #^\n",
    "        ax.set_ylim([c,d]) #resets the y-axis limits to new 'c' and 'd'\n",
    "        plt.show() #re-shows the plot so we can see the change in axis\n",
    "\n",
    "    if event.key == 'up': #if the key pressed is the up arrow\n",
    "        c = c+50 #adds 50 from the value of a each time the key is pressed\n",
    "        d = d+50 #^\n",
    "        ax.set_ylim([c,d]) #resets the y-axis limits to new 'c' and 'd'\n",
    "        plt.show() #re-shows the plot so we can see the change in axis\n",
    "\n",
    "    if event.key == 'r': #if the key pressed is the r key\n",
    "        global e #tells our function that we defined 'e' outside of the function\n",
    "        global f #^\n",
    "        e = e-50 #subtracts 50 from the value of a each time the key is pressed\n",
    "        f = f-50 #^\n",
    "        ax.set_zlim([e,f]) #resets the y-axis limits to new 'c' and 'd'\n",
    "        plt.show() #re-shows the plot so we can see the change in axis\n",
    "\n",
    "    if event.key == 't': #if the key pressed is the t key\n",
    "        e = e+50 #adds 50 from the value of a each time the key is pressed\n",
    "        f = f+50 #^\n",
    "        ax.set_zlim([e,f]) #resets the y-axis limits to new 'c' and 'd'\n",
    "        plt.show() #re-shows the plot so we can see the change in axis\n",
    "\n",
    "    if event.key == 'b': #if the key pressed is the b key\n",
    "        ax.set_xlim([-300,300]) #resets the x-axis limits \n",
    "        ax.set_ylim([-300,300]) #resets the y-axis limits \n",
    "        ax.set_zlim([-300,300]) #resets the z-axis limits \n",
    "        plt.show() #re-shows the plot so we can see the change in axis"
   ]
  },
  {
   "cell_type": "code",
   "execution_count": 24,
   "metadata": {},
   "outputs": [],
   "source": [
    "def onpick(event): #this first line defines our function, and takes in an `event`\n",
    "    \n",
    "    ind = event.ind #here we select an `attribute` of our event, this one is the indices\n",
    "    star_label= labels[ind]\n",
    "\n",
    "        \n",
    "    our_df = exodf.loc[star_name == star_label[0]]\n",
    "    num_of_planets= our_df['pl_pnum'] #the number of planets per star\n",
    "    orb_radius= our_df['pl_orbsmax'] #the semi-major axis radius of the planet\n",
    "\n",
    "    orbradii= orb_radius.loc[np.isfinite(orb_radius)].sort_values()\n",
    "    \n",
    "    orbradii= orbradii.values #this turns a column into numbers\n",
    "    #print(orbradii)\n",
    "    \n",
    "    if len(orbradii) > 0:\n",
    "        planet_total = len(orbradii)\n",
    "        fig2= plt.figure(facecolor='k')\n",
    "        ax2= fig2.add_subplot(111,xlim=(-max(orbradii)-1, max(orbradii)+1), ylim=(-max(orbradii)-1, max(orbradii)+1))   \n",
    "        \n",
    "        for radius in orbradii:\n",
    "            \n",
    "            x = np.linspace(-1.0, 1.0, 100) #this adds enough points to complete the circle\n",
    "            y = np.linspace(-1.0, 1.0, 100)\n",
    "            X, Y = np.meshgrid(x,y)\n",
    "            F = X**2 + Y**2 - radius #the rest of this equation draws the circle, 0.2 adds the radius\n",
    "            ax2.contour(X,Y,F,[0], colors=next(colors))\n",
    "        \n",
    "        ax2.scatter(0,0, marker='*', s=50, c='Tomato')\n",
    "        \n",
    "        text = 'Name = {}\\nDistance from Sun = {} parsec\\nTotal Planets = {}\\nEffective Temp = {} K\\nMass = {} M_Sun'.format(\n",
    "            star_name.values[0],our_df['st_dist'].iloc[0],num_of_planets.iloc[0],our_df['st_teff'].iloc[0],our_df['st_mass'].iloc[0])\n",
    "        ax2.annotate(text, xy=(0.6, 0.8), xycoords='axes fraction', color='w', fontweight = 'bold', **description_font)\n",
    "        \n",
    "        ax2.set_facecolor('k')\n",
    "        ax2.spines['right'].set_visible(False)\n",
    "        ax2.spines['top'].set_visible(False)\n",
    "        ax2.spines['left'].set_color('grey')\n",
    "        ax2.spines['bottom'].set_color('grey')\n",
    "        ax.tick_params(axis='x', colors='grey')\n",
    "        ax.tick_params(axis='y', colors='grey')\n",
    "            \n",
    "        plt.gca().set_aspect('equal', adjustable='box')\n",
    "        plt.show()"
   ]
  },
  {
   "cell_type": "code",
   "execution_count": 25,
   "metadata": {},
   "outputs": [
    {
     "data": {
      "text/plain": [
       "12"
      ]
     },
     "execution_count": 25,
     "metadata": {},
     "output_type": "execute_result"
    }
   ],
   "source": [
    "#Define the figure and scatter plot the data\n",
    "fig = plt.figure(figsize=[10, 8]) \n",
    "\n",
    "ax = fig.add_subplot(111, facecolor='Black', projection='3d', xlim = (a,b), ylim = (c,d), zlim = (e,f))\n",
    "ax.scatter(x, y, z, c = teff, cmap= 'plasma', s = 2*((10*stellar_mass)**2), marker = 'o', picker=5)  \n",
    "ax.set_axis_off()\n",
    "\n",
    "\n",
    "# fig1.canvas.mpl_connect('pick_event', onpick)\n",
    "\n",
    "#Connect the matplotlib events\n",
    "\n",
    "fig.canvas.mpl_connect('pick_event', onpick)\n",
    "\n",
    "# fig = ax.get_figure() # get the figure of interest\n",
    "fig.canvas.mpl_connect('key_press_event', panning_fun)\n",
    "fig.canvas.mpl_connect('scroll_event',zoom_fun)"
   ]
  },
  {
   "cell_type": "code",
   "execution_count": null,
   "metadata": {},
   "outputs": [],
   "source": []
  }
 ],
 "metadata": {
  "kernelspec": {
   "display_name": "Python 3",
   "language": "python",
   "name": "python3"
  },
  "language_info": {
   "codemirror_mode": {
    "name": "ipython",
    "version": 3
   },
   "file_extension": ".py",
   "mimetype": "text/x-python",
   "name": "python",
   "nbconvert_exporter": "python",
   "pygments_lexer": "ipython3",
   "version": "3.6.4"
  }
 },
 "nbformat": 4,
 "nbformat_minor": 2
}
