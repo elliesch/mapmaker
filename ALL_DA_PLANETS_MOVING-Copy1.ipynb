{
 "cells": [
  {
   "cell_type": "code",
   "execution_count": 1,
   "metadata": {},
   "outputs": [
    {
     "name": "stdout",
     "output_type": "stream",
     "text": [
      "Using matplotlib backend: TkAgg\n",
      "Populating the interactive namespace from numpy and matplotlib\n"
     ]
    }
   ],
   "source": [
    "%pylab"
   ]
  },
  {
   "cell_type": "code",
   "execution_count": 2,
   "metadata": {},
   "outputs": [],
   "source": [
    "import pandas as pd\n",
    "import numpy as np\n",
    "import matplotlib.pyplot as plt\n",
    "import matplotlib.animation as ani"
   ]
  },
  {
   "cell_type": "code",
   "execution_count": 17,
   "metadata": {},
   "outputs": [],
   "source": [
    "df = pd.read_csv('planets.csv')\n",
    "\n",
    "exodf = df.drop_duplicates('pl_hostname')\n",
    "exodf = df.loc[(df['st_mass'] <=.6) & (df['st_teff'] <=6000) & (np.isfinite(df['pl_orbsmax']))]\n",
    "star_names = exodf['pl_hostname']"
   ]
  },
  {
   "cell_type": "code",
   "execution_count": 20,
   "metadata": {},
   "outputs": [
    {
     "name": "stdout",
     "output_type": "stream",
     "text": [
      "[<matplotlib.lines.Line2D object at 0x1161b6358>]\n",
      "[<matplotlib.lines.Line2D object at 0x116194668>]\n",
      "[<matplotlib.lines.Line2D object at 0x116194ba8>]\n"
     ]
    }
   ],
   "source": [
    "for ii in star_names:\n",
    "    \n",
    "    plt.close()\n",
    "    \n",
    "\n",
    "    our_df = exodf.loc[star_names == ii]\n",
    "    num_planet = our_df['pl_pnum']\n",
    "    orb_radius = our_df['pl_orbsmax']\n",
    "    orbradii = orb_radius.loc[np.isfinite(orb_radius)]\n",
    "    orbradii = orbradii.values\n",
    "    planet_total = len(orbradii)\n",
    "    \n",
    "    \n",
    "    if len(orbradii) > 0:\n",
    "        \n",
    "        fig = plt.figure()\n",
    "        ax = fig.add_subplot(111, xlim = (-max(orbradii)-.2,max(orbradii)+.2), ylim = (-max(orbradii)-.2,max(orbradii)+.2))\n",
    "        lines = []\n",
    "        \n",
    "        for _ in range(planet_total):\n",
    "            lines.append(ax.plot([], [], 'o'))\n",
    "            \n",
    "        def init():\n",
    "            for ii in range(len(lines)):\n",
    "                print(lines[ii])\n",
    "                lines[ii][0].set_data([],[])\n",
    "            return lines\n",
    "        \n",
    "        def animate(i):\n",
    "\n",
    "            #angle = i/10. * np.pi\n",
    "            angle_factor = np.arange(planet_total)\n",
    "            angle_factor += 1\n",
    "    \n",
    "            for iii in range(planet_total):\n",
    "                #angle = (i + angle_factor)/10. * np.pi\n",
    "                angle = i/(10.*angle_factor[iii]) * np.pi\n",
    "                moving_x = [0, orbradii[iii]*np.cos(angle)]\n",
    "                moving_y = [0, orbradii[iii]*np.sin(angle)]\n",
    "        \n",
    "                #print(lines[ii])\n",
    "                lines[iii][0].set_data(moving_x,moving_y)\n",
    "        \n",
    "            return lines\n",
    "        our_animation = ani.FuncAnimation(fig, animate, np.arange(1, 1000), interval=75, init_func=init)  \n",
    "        plt.show()"
   ]
  },
  {
   "cell_type": "code",
   "execution_count": null,
   "metadata": {
    "collapsed": true
   },
   "outputs": [],
   "source": []
  }
 ],
 "metadata": {
  "kernelspec": {
   "display_name": "Python 3",
   "language": "python",
   "name": "python3"
  },
  "language_info": {
   "codemirror_mode": {
    "name": "ipython",
    "version": 3
   },
   "file_extension": ".py",
   "mimetype": "text/x-python",
   "name": "python",
   "nbconvert_exporter": "python",
   "pygments_lexer": "ipython3",
   "version": "3.6.4"
  }
 },
 "nbformat": 4,
 "nbformat_minor": 2
}
