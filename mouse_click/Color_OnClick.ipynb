{
 "cells": [
  {
   "cell_type": "code",
   "execution_count": 1,
   "metadata": {},
   "outputs": [
    {
     "name": "stdout",
     "output_type": "stream",
     "text": [
      "Using matplotlib backend: TkAgg\n",
      "Populating the interactive namespace from numpy and matplotlib\n"
     ]
    }
   ],
   "source": [
    "% pylab"
   ]
  },
  {
   "cell_type": "code",
   "execution_count": 2,
   "metadata": {},
   "outputs": [
    {
     "data": {
      "text/plain": [
       "Text(0,0.5,u'y')"
      ]
     },
     "execution_count": 2,
     "metadata": {},
     "output_type": "execute_result"
    }
   ],
   "source": [
    "fig = plt.figure(figsize=(8,6))\n",
    "ax = fig.add_subplot(111)\n",
    "                     \n",
    "# Create data\n",
    "N = 500\n",
    "x = np.random.rand(N)*100 #random numbers\n",
    "y = np.random.rand(N)*100\n",
    " \n",
    "# Plot\n",
    "ax.scatter(x, y)\n",
    "ax.set_xlim(-10,110)\n",
    "ax.set_ylim(-10,110)\n",
    "ax.set_xlabel('x')\n",
    "ax.set_ylabel('y')"
   ]
  },
  {
   "cell_type": "code",
   "execution_count": 3,
   "metadata": {},
   "outputs": [
    {
     "data": {
      "text/plain": [
       "7"
      ]
     },
     "execution_count": 3,
     "metadata": {},
     "output_type": "execute_result"
    }
   ],
   "source": [
    "fig, ax = plt.subplots()\n",
    "ax.set_xlim(-1, 2) #limits \n",
    "ax.set_ylim(-1, 2)\n",
    "rect = plt.Rectangle((0, 0), 1, 1, fc=np.random.random(3))\n",
    "ax.add_patch(rect) #put rectangle into axis\n",
    "\n",
    "def on_click(event):\n",
    "    x, y = event.xdata, event.ydata\n",
    "    if (x > 0) and (x < 1) and (y > 0) and (y < 1):\n",
    "        rect.set_fc(np.random.random(3)) #random numbers that are the rgb\n",
    "        fig.canvas.draw()\n",
    "    \n",
    "fig.canvas.mpl_connect('button_press_event', on_click)"
   ]
  },
  {
   "cell_type": "code",
   "execution_count": 4,
   "metadata": {},
   "outputs": [
    {
     "data": {
      "text/plain": [
       "7"
      ]
     },
     "execution_count": 4,
     "metadata": {},
     "output_type": "execute_result"
    }
   ],
   "source": [
    "fig, ax = plt.subplots()\n",
    "x = np.linspace(0, 10, 1000) #make a list with a 1000 items\n",
    "line, = ax.plot(x, np.sin(x)) #plotting x and sin of x\n",
    "\n",
    "def on_click(event):\n",
    "    # If the key is one of the shorthand color notations, set the line color\n",
    "    if event:\n",
    "        line.set_color(np.random.random(3)) #wherever you click\n",
    "\n",
    "    fig.canvas.draw()\n",
    "\n",
    "fig.canvas.mpl_connect('button_press_event', on_click)"
   ]
  },
  {
   "cell_type": "code",
   "execution_count": 5,
   "metadata": {
    "collapsed": true
   },
   "outputs": [],
   "source": [
    "import itertools"
   ]
  },
  {
   "cell_type": "code",
   "execution_count": 6,
   "metadata": {},
   "outputs": [
    {
     "data": {
      "text/plain": [
       "7"
      ]
     },
     "execution_count": 6,
     "metadata": {},
     "output_type": "execute_result"
    }
   ],
   "source": [
    "fig, ax = plt.subplots()\n",
    "x = np.linspace(0, 10, 1000) #space between 0 and 10\n",
    "line, = ax.plot(x, np.sin(x))\n",
    "\n",
    "colors = itertools.cycle(['red', 'green', 'blue'])\n",
    "\n",
    "def on_click(event):\n",
    "    # If the key is one of the shorthand color notations, set the line color\n",
    "    if event:\n",
    "        line.set_color(next(colors))\n",
    "\n",
    "    fig.canvas.draw()\n",
    "\n",
    "fig.canvas.mpl_connect('button_press_event', on_click)"
   ]
  },
  {
   "cell_type": "code",
   "execution_count": 7,
   "metadata": {
    "collapsed": true
   },
   "outputs": [],
   "source": [
    "import itertools"
   ]
  },
  {
   "cell_type": "code",
   "execution_count": 8,
   "metadata": {},
   "outputs": [
    {
     "data": {
      "text/plain": [
       "7"
      ]
     },
     "execution_count": 8,
     "metadata": {},
     "output_type": "execute_result"
    }
   ],
   "source": [
    "fig, ax = plt.subplots()\n",
    "fig = plt.figure(figsize=(8,6))\n",
    "ax = fig.add_subplot(111)\n",
    "                     \n",
    "# Create data\n",
    "N = 500\n",
    "x = np.random.rand(N)*100 #random numbers\n",
    "y = np.random.rand(N)*100\n",
    "great = np.random.rand(N)*100\n",
    "temp = np.random.rand(N)*100\n",
    "okay = np.random.rand(N)*100\n",
    " \n",
    "# Plot\n",
    "ax.scatter(x, y)\n",
    "ax.set_xlim(-10,110)\n",
    "ax.set_ylim(-10,110)\n",
    "ax.set_xlabel('x')\n",
    "ax.set_ylabel('y')\n",
    "\n",
    "colors = itertools.cycle(['yellow', 'blue', 'green'])\n",
    "\n",
    "def on_click(event):\n",
    "    if event:\n",
    "        ax.clear()\n",
    "        ax.scatter(x, y, c=great, cmap = 'spring' )\n",
    "        \n",
    "        \n",
    "    fig.canvas.draw()\n",
    "\n",
    "fig.canvas.mpl_connect('button_press_event', on_click)\n"
   ]
  },
  {
   "cell_type": "code",
   "execution_count": 26,
   "metadata": {},
   "outputs": [
    {
     "data": {
      "text/plain": [
       "<matplotlib.collections.PathCollection at 0x137826810>"
      ]
     },
     "execution_count": 26,
     "metadata": {},
     "output_type": "execute_result"
    }
   ],
   "source": [
    "N = 100\n",
    "x = np.random.rand(N)*100 #random numbers\n",
    "y = np.random.rand(N)*100 #random numbers\n",
    "\n",
    "temperature = np.random.rand(N)*100 #random numbers\n",
    "distance = np.random.rand(N)*100 #random numbers\n",
    "\n",
    "plt.scatter(x, y, c=distance, cmap='plasma')\n",
    "\n",
    "\n",
    "#for temperature we used 'hot' as colormap"
   ]
  },
  {
   "cell_type": "code",
   "execution_count": 10,
   "metadata": {
    "collapsed": true
   },
   "outputs": [],
   "source": [
    "import itertools"
   ]
  },
  {
   "cell_type": "code",
   "execution_count": 14,
   "metadata": {},
   "outputs": [
    {
     "name": "stdout",
     "output_type": "stream",
     "text": [
      "('Debjani', 10)\n",
      "('Laura', 11)\n",
      "('Luna', 10)\n",
      "('Prachurjya', 11)\n",
      "('Maxine', 11)\n"
     ]
    }
   ],
   "source": [
    "name_list = ['Debjani', 'Laura', 'Luna', 'Prachurjya', 'Maxine']\n",
    "grade = [10, 11, 10, 11, 11]\n",
    "\n",
    "for i, j in zip(name_list, grade):\n",
    "    print(i, j)"
   ]
  },
  {
   "cell_type": "code",
   "execution_count": 41,
   "metadata": {},
   "outputs": [
    {
     "data": {
      "text/plain": [
       "7"
      ]
     },
     "execution_count": 41,
     "metadata": {},
     "output_type": "execute_result"
    },
    {
     "name": "stderr",
     "output_type": "stream",
     "text": [
      "Traceback (most recent call last):\n",
      "  File \"/Users/maxinesowah/anaconda/lib/python2.7/site-packages/matplotlib/cbook/__init__.py\", line 388, in process\n",
      "    proxy(*args, **kwargs)\n",
      "  File \"/Users/maxinesowah/anaconda/lib/python2.7/site-packages/matplotlib/cbook/__init__.py\", line 228, in __call__\n",
      "    return mtd(*args, **kwargs)\n",
      "  File \"<ipython-input-41-56fedeaf0da7>\", line 33, in on_click\n",
      "    ax(next(colors))\n",
      "TypeError: 'AxesSubplot' object is not callable\n",
      "Traceback (most recent call last):\n",
      "  File \"/Users/maxinesowah/anaconda/lib/python2.7/site-packages/matplotlib/cbook/__init__.py\", line 388, in process\n",
      "    proxy(*args, **kwargs)\n",
      "  File \"/Users/maxinesowah/anaconda/lib/python2.7/site-packages/matplotlib/cbook/__init__.py\", line 228, in __call__\n",
      "    return mtd(*args, **kwargs)\n",
      "  File \"<ipython-input-41-56fedeaf0da7>\", line 33, in on_click\n",
      "    ax(next(colors))\n",
      "TypeError: 'AxesSubplot' object is not callable\n"
     ]
    }
   ],
   "source": [
    "fig = plt.figure(figsize=(8,6))\n",
    "ax = fig.add_subplot(111)\n",
    "                     \n",
    "# Create data\n",
    "N = 500\n",
    "x = np.random.rand(N)*100 #random numbers\n",
    "y = np.random.rand(N)*100\n",
    "\n",
    " \n",
    "# Plot\n",
    "ax.scatter(x, y)\n",
    "ax.set_xlim(-10,110)\n",
    "ax.set_ylim(-10,110)\n",
    "ax.set_xlabel('x')\n",
    "ax.set_ylabel('y')\n",
    "\n",
    "\n",
    "temperature = np.random.rand(N)*100\n",
    "distance = np.random.rand(N)*100\n",
    "\n",
    "\n",
    "v_list = [distance, temperature]\n",
    "c_list = ['plasma', 'hot']\n",
    "\n",
    "for i, j in zip(v_list, c_list):\n",
    "    plt.scatter(x, y, c = i, cmap= j)\n",
    "    \n",
    "    colors = itertools.cycle([i, j])\n",
    "\n",
    "def on_click(event):\n",
    "    # If the key is one of the shorthand color notations, set the line color\n",
    "    if event:\n",
    "         ax(next(colors))\n",
    "\n",
    "\n",
    "\n",
    "\n",
    "fig.canvas.mpl_connect('button_press_event', on_click)\n",
    "\n"
   ]
  },
  {
   "cell_type": "code",
   "execution_count": null,
   "metadata": {
    "collapsed": true
   },
   "outputs": [],
   "source": []
  },
  {
   "cell_type": "code",
   "execution_count": null,
   "metadata": {
    "collapsed": true
   },
   "outputs": [],
   "source": []
  }
 ],
 "metadata": {
  "kernelspec": {
   "display_name": "Python 2",
   "language": "python",
   "name": "python2"
  },
  "language_info": {
   "codemirror_mode": {
    "name": "ipython",
    "version": 2
   },
   "file_extension": ".py",
   "mimetype": "text/x-python",
   "name": "python",
   "nbconvert_exporter": "python",
   "pygments_lexer": "ipython2",
   "version": "2.7.13"
  }
 },
 "nbformat": 4,
 "nbformat_minor": 2
}
