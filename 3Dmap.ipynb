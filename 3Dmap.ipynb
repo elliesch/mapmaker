{
 "cells": [
  {
   "cell_type": "code",
   "execution_count": 1,
   "metadata": {},
   "outputs": [
    {
     "name": "stdout",
     "output_type": "stream",
     "text": [
      "Using matplotlib backend: TkAgg\n",
      "Populating the interactive namespace from numpy and matplotlib\n"
     ]
    }
   ],
   "source": [
    "% pylab"
   ]
  },
  {
   "cell_type": "code",
   "execution_count": 67,
   "metadata": {},
   "outputs": [],
   "source": [
    "import pandas as pd\n",
    "import numpy as np\n",
    "\n",
    "import matplotlib.pyplot as plt\n",
    "from mpl_toolkits.mplot3d import Axes3D\n",
    "import matplotlib.animation as animation\n",
    "\n",
    "import itertools\n",
    "\n",
    "# %matplotlib inline "
   ]
  },
  {
   "cell_type": "code",
   "execution_count": 70,
   "metadata": {},
   "outputs": [],
   "source": [
    "df = pd.read_csv('planets.csv')"
   ]
  },
  {
   "cell_type": "code",
   "execution_count": 101,
   "metadata": {},
   "outputs": [],
   "source": [
    "exodf = df.loc[(df['st_mass']<= 0.6) & (df['st_teff'] < 6000) & (df['pl_orbsmax'] > 0)]\n",
    "stardf = df.loc[(df['st_mass']<= 0.6) & (df['st_teff'] < 6000) & (df.duplicated('pl_hostname')) & (df['pl_orbsmax'] > 0)]"
   ]
  },
  {
   "cell_type": "code",
   "execution_count": 72,
   "metadata": {},
   "outputs": [],
   "source": [
    "bitwise_mask = (np.isfinite(stardf['st_dist'])) & (np.isfinite(starexodf['st_mass'])) & (np.isfinite(stardf['st_teff']))"
   ]
  },
  {
   "cell_type": "code",
   "execution_count": 73,
   "metadata": {},
   "outputs": [],
   "source": [
    "ra = stardf['ra'].loc[bitwise_mask]\n",
    "dec = stardf['dec'].loc[bitwise_mask]\n",
    "distance = stardf['st_dist'].loc[bitwise_mask] \n",
    "stellar_mass = stardf['st_mass'].loc[bitwise_mask]\n",
    "teff = stardf['st_teff'].loc[bitwise_mask]\n",
    "star_name = stardf['pl_hostname'].loc[bitwise_mask]"
   ]
  },
  {
   "cell_type": "code",
   "execution_count": 74,
   "metadata": {},
   "outputs": [],
   "source": [
    "x = distance * np.cos(dec) * np.cos(ra)\n",
    "y = distance * np.cos(dec) * np.sin(ra)\n",
    "z = distance * np.sin(dec)"
   ]
  },
  {
   "cell_type": "code",
   "execution_count": 29,
   "metadata": {},
   "outputs": [],
   "source": [
    "#axes limits for on_key codes\n",
    "\n",
    "a = -300\n",
    "b = 300\n",
    "c = a\n",
    "d = b\n",
    "e = a\n",
    "f = b"
   ]
  },
  {
   "cell_type": "code",
   "execution_count": null,
   "metadata": {},
   "outputs": [],
   "source": [
    "labels_column = star_name\n",
    "labels = labels_column.values"
   ]
  },
  {
   "cell_type": "code",
   "execution_count": null,
   "metadata": {},
   "outputs": [],
   "source": [
    "colors = itertools.cycle(['#42f4bf', 'green', 'blue']) #these should come from Luna's colors"
   ]
  },
  {
   "cell_type": "code",
   "execution_count": 59,
   "metadata": {},
   "outputs": [],
   "source": [
    "fig = plt.figure(figsize=[10, 8]) \n",
    "\n",
    "ax = fig.add_subplot(111, facecolor='Black', projection='3d', xlim = (a,b), ylim = (c,d), zlim = (e,f))\n",
    "ax.scatter(x, y, z, c = teff, cmap= 'plasma', s = 2*((10*stellar_mass)**2), marker = 'o')  \n",
    "ax.set_axis_off()\n",
    "\n",
    "fig = zoomandpan_factory(ax,base_scale = scale) #instead of this, we should connect the plots to everyone's code with mpl connect"
   ]
  },
  {
   "cell_type": "code",
   "execution_count": 58,
   "metadata": {},
   "outputs": [],
   "source": [
    "def zoomandpan_factory(ax,base_scale = 2.):\n",
    "    \n",
    "    #panning\n",
    "    def panning_fun(event): #creates our event handling function to move left on the x-axis by subtracting 5\n",
    "        if event.key == 'left': #if the key pressed is the left arrow\n",
    "            global a #tells our function that we defined 'a' outside of the function\n",
    "            global b #^\n",
    "            a = a-50 #subtracts 50 from the value of a each time the key is pressed\n",
    "            b = b-50 #^\n",
    "            ax.set_xlim([a,b]) #resets the x-axis limits to new 'a' and 'b'\n",
    "            plt.show() #re-shows the plot so we can see the change in axis\n",
    "\n",
    "        if event.key == 'right': #if the key pressed is the right arrow\n",
    "            a = a+50 #adds 50 from the value of a each time the key is pressed\n",
    "            b = b+50 #^\n",
    "            ax.set_xlim([a,b]) #resets the x-axis limits to new 'a' and 'b'\n",
    "            plt.show() #re-shows the plot so we can see the change in axis\n",
    "\n",
    "        if event.key == 'down': #if the key pressed is the down arrow\n",
    "            global c #tells our function that we defined 'c' outside of the function\n",
    "            global d #^\n",
    "            c = c-50 #subtracts 50 from the value of a each time the key is pressed\n",
    "            d = d-50 #^\n",
    "            ax.set_ylim([c,d]) #resets the y-axis limits to new 'c' and 'd'\n",
    "            plt.show() #re-shows the plot so we can see the change in axis\n",
    "\n",
    "        if event.key == 'up': #if the key pressed is the up arrow\n",
    "            c = c+50 #adds 50 from the value of a each time the key is pressed\n",
    "            d = d+50 #^\n",
    "            ax.set_ylim([c,d]) #resets the y-axis limits to new 'c' and 'd'\n",
    "            plt.show() #re-shows the plot so we can see the change in axis\n",
    "\n",
    "        if event.key == 'r': #if the key pressed is the r key\n",
    "            global e #tells our function that we defined 'e' outside of the function\n",
    "            global f #^\n",
    "            e = e-50 #subtracts 50 from the value of a each time the key is pressed\n",
    "            f = f-50 #^\n",
    "            ax.set_zlim([e,f]) #resets the y-axis limits to new 'c' and 'd'\n",
    "            plt.show() #re-shows the plot so we can see the change in axis\n",
    "\n",
    "        if event.key == 't': #if the key pressed is the t key\n",
    "            e = e+50 #adds 50 from the value of a each time the key is pressed\n",
    "            f = f+50 #^\n",
    "            ax.set_zlim([e,f]) #resets the y-axis limits to new 'c' and 'd'\n",
    "            plt.show() #re-shows the plot so we can see the change in axis\n",
    "\n",
    "    fig = ax.get_figure()\n",
    "    fig.canvas.mpl_connect('key_press_event', panning_fun) \n",
    "    #connects our figure with our above function; tells the figure that it should expect a key_press\n",
    "\n",
    "    \n",
    "    def zoom_fun(event):\n",
    "        base_scale =1.5\n",
    "        \n",
    "        # get the current x and y limits\n",
    "        cur_xlim = ax.get_xlim()\n",
    "        cur_ylim = ax.get_ylim()\n",
    "        cur_xrange = (cur_xlim[1] - cur_xlim[0])*.5\n",
    "        cur_yrange = (cur_ylim[1] - cur_ylim[0])*.5\n",
    "        xdata = event.xdata # get event x location\n",
    "        ydata = event.ydata # get event y location\n",
    "        if event.button == 'up':\n",
    "            # deal with zoom in\n",
    "            scale_factor = 1/base_scale\n",
    "        elif event.button == 'down':\n",
    "            # deal with zoom out\n",
    "            scale_factor = base_scale\n",
    "        else:\n",
    "            # deal with something that should never happen\n",
    "            scale_factor = 1\n",
    "            print (event.button)\n",
    "        # set new limits\n",
    "        ax.set_xlim([xdata - cur_xrange*scale_factor,\n",
    "                     xdata + cur_xrange*scale_factor])\n",
    "        ax.set_ylim([ydata - cur_yrange*scale_factor,\n",
    "                     ydata + cur_yrange*scale_factor])\n",
    "        plt.draw() # force re-draw\n",
    "\n",
    "    fig = ax.get_figure() # get the figure of interest\n",
    "    # attach the call back\n",
    "    fig.canvas.mpl_connect('scroll_event',zoom_fun)\n"
   ]
  },
  {
   "cell_type": "code",
   "execution_count": null,
   "metadata": {
    "collapsed": true
   },
   "outputs": [],
   "source": []
  }
 ],
 "metadata": {
  "kernelspec": {
   "display_name": "Python 3",
   "language": "python",
   "name": "python3"
  },
  "language_info": {
   "codemirror_mode": {
    "name": "ipython",
    "version": 3
   },
   "file_extension": ".py",
   "mimetype": "text/x-python",
   "name": "python",
   "nbconvert_exporter": "python",
   "pygments_lexer": "ipython3",
   "version": "3.6.4"
  }
 },
 "nbformat": 4,
 "nbformat_minor": 2
}
