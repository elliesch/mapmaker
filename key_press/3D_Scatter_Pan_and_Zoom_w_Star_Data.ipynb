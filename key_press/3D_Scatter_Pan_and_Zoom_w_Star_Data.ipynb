{
 "cells": [
  {
   "cell_type": "code",
   "execution_count": 1,
   "metadata": {},
   "outputs": [
    {
     "name": "stdout",
     "output_type": "stream",
     "text": [
      "Using matplotlib backend: TkAgg\n",
      "Populating the interactive namespace from numpy and matplotlib\n"
     ]
    }
   ],
   "source": [
    "% pylab"
   ]
  },
  {
   "cell_type": "code",
   "execution_count": 2,
   "metadata": {},
   "outputs": [],
   "source": [
    "import pandas as pd\n",
    "import numpy as np\n",
    "\n",
    "import matplotlib.pyplot as plt\n",
    "from astropy import units as u\n",
    "from astropy.coordinates import SkyCoord\n",
    "from mpl_toolkits.mplot3d import Axes3D"
   ]
  },
  {
   "cell_type": "code",
   "execution_count": 3,
   "metadata": {},
   "outputs": [],
   "source": [
    "df = pd.read_csv('planets.csv')\n",
    "exodf = df.loc[(df['st_mass'] <= .6) & (df['st_teff']<=6000)]"
   ]
  },
  {
   "cell_type": "code",
   "execution_count": 4,
   "metadata": {},
   "outputs": [],
   "source": [
    "ra = exodf['ra'].loc[(np.isfinite(exodf['st_dist'])) & (np.isfinite(exodf['st_mass'])) & (np.isfinite(exodf['st_teff']))]\n",
    "dec = exodf['dec'].loc[(np.isfinite(exodf['st_dist'])) & (np.isfinite(exodf['st_mass'])) & (np.isfinite(exodf['st_teff']))]\n",
    "distance = exodf['st_dist'].loc[(np.isfinite(exodf['st_dist'])) & (np.isfinite(exodf['st_mass'])) & (np.isfinite(exodf['st_teff']))] \n",
    "stellar_mass = exodf['st_mass'].loc[(np.isfinite(exodf['st_dist'])) & (np.isfinite(exodf['st_mass'])) & (np.isfinite(exodf['st_teff']))]\n",
    "teff = exodf['st_teff'].loc[(np.isfinite(exodf['st_dist'])) & (np.isfinite(exodf['st_mass'])) & (np.isfinite(exodf['st_teff']))]"
   ]
  },
  {
   "cell_type": "code",
   "execution_count": 5,
   "metadata": {},
   "outputs": [],
   "source": [
    "x = (distance * np.cos(dec) *np.cos(ra))\n",
    "y = (distance * np.cos(dec) *np.sin(ra))\n",
    "z = (distance * np.sin(dec))"
   ]
  },
  {
   "cell_type": "code",
   "execution_count": 6,
   "metadata": {},
   "outputs": [
    {
     "data": {
      "text/plain": [
       "Series([], dtype: float64)"
      ]
     },
     "execution_count": 6,
     "metadata": {},
     "output_type": "execute_result"
    }
   ],
   "source": [
    "z.loc[z == np.nan]"
   ]
  },
  {
   "cell_type": "code",
   "execution_count": 7,
   "metadata": {},
   "outputs": [],
   "source": [
    "a = -500\n",
    "b = 500\n",
    "c = -500\n",
    "d = 500\n",
    "e = -500\n",
    "f = 500"
   ]
  },
  {
   "cell_type": "code",
   "execution_count": 8,
   "metadata": {},
   "outputs": [],
   "source": [
    "fig = plt.figure(figsize=[10, 8]) \n",
    "ax = fig.add_subplot(111, projection = \"3d\", xlim = (a,b), ylim = (c,d), zlim = (e,f))\n",
    "#anim = animation.FuncAnimation(fig, animate, init_func = init, frames = 360, interval =5, blit = True)\n",
    "#anim.save('exoplanet_animation.mp4', fps=30, extra_args=['-vcodec', 'libx264'])\n",
    "\n",
    "#panning\n",
    "def on_key_press_left(event): #creates our event handling function to move left on the x-axis by subtracting 5\n",
    "    if event.key == 'left': #if the key pressed is the left arrow\n",
    "        global a #tells our function that we defined 'a' outside of the function\n",
    "        global b #^\n",
    "        a = a-50 #subtracts 50 from the value of a each time the key is pressed\n",
    "        b = b-50 #^\n",
    "        ax.set_xlim([a,b]) #resets the x-axis limits to new 'a' and 'b'\n",
    "        plt.show() #re-shows the plot so we can see the change in axis\n",
    "\n",
    "fig.canvas.mpl_connect('key_press_event', on_key_press_left) \n",
    "#connects our figure with our above function; tells the figure that it should expect a key_press\n",
    "\n",
    "def on_key_press_right(event): #creates our event handling function to move right on the x-axis by adding 5\n",
    "    if event.key == 'right': #if the key pressed is the right arrow\n",
    "        global a #tells our function that we defined 'a' outside of the function\n",
    "        global b #^\n",
    "        a = a+50 #adds 50 from the value of a each time the key is pressed\n",
    "        b = b+50 #^\n",
    "        ax.set_xlim([a,b]) #resets the x-axis limits to new 'a' and 'b'\n",
    "        plt.show() #re-shows the plot so we can see the change in axis\n",
    "\n",
    "fig.canvas.mpl_connect('key_press_event', on_key_press_right) \n",
    "#connects our figure with our above function; tells the figure that it should expect a key_press\n",
    "\n",
    "def on_key_press_down(event): #creates our event handling function to move out on the y-axis by subtracting 5\n",
    "    if event.key == 'down': #if the key pressed is the down arrow\n",
    "        global c #tells our function that we defined 'c' outside of the function\n",
    "        global d #^\n",
    "        c = c-50 #subtracts 50 from the value of a each time the key is pressed\n",
    "        d = d-50 #^\n",
    "        ax.set_ylim([c,d]) #resets the y-axis limits to new 'c' and 'd'\n",
    "        plt.show() #re-shows the plot so we can see the change in axis\n",
    "\n",
    "fig.canvas.mpl_connect('key_press_event', on_key_press_down) \n",
    "#connects our figure with our above function; tells the figure that it should expect a key_press\n",
    "\n",
    "def on_key_press_up(event): #creates our event handling function to move in on the y-axis by adding 5\n",
    "    if event.key == 'up': #if the key pressed is the up arrow\n",
    "        global c #tells our function that we defined 'c' outside of the function\n",
    "        global d #^\n",
    "        c = c+50 #adds 50 from the value of a each time the key is pressed\n",
    "        d = d+50 #^\n",
    "        ax.set_ylim([c,d]) #resets the y-axis limits to new 'c' and 'd'\n",
    "        plt.show() #re-shows the plot so we can see the change in axis\n",
    "\n",
    "fig.canvas.mpl_connect('key_press_event', on_key_press_up) \n",
    "#connects our figure with our above function; tells the figure that it should expect a key_press\n",
    "\n",
    "def on_key_press_zminus(event): #creates our event handling function to move in on the z-axis by adding 5\n",
    "    if event.key == 'r': #if the key pressed is the r key\n",
    "        global e #tells our function that we defined 'e' outside of the function\n",
    "        global f #^\n",
    "        e = e-50 #subtracts 50 from the value of a each time the key is pressed\n",
    "        f = f-50 #^\n",
    "        ax.set_zlim([e,f]) #resets the y-axis limits to new 'c' and 'd'\n",
    "        plt.show() #re-shows the plot so we can see the change in axis\n",
    "\n",
    "fig.canvas.mpl_connect('key_press_event', on_key_press_zminus) \n",
    "#connects our figure with our above function; tells the figure that it should expect a key_press\n",
    "\n",
    "def on_key_press_zplus(event): #creates our event handling function to move up on the y-axis by adding 5\n",
    "    if event.key == 't': #if the key pressed is the t key\n",
    "        global e #tells our function that we defined 'e' outside of the function\n",
    "        global f #^\n",
    "        e = e+50 #adds 50 from the value of a each time the key is pressed\n",
    "        f = f+50 #^\n",
    "        ax.set_zlim([e,f]) #resets the y-axis limits to new 'c' and 'd'\n",
    "        plt.show() #re-shows the plot so we can see the change in axis\n",
    "\n",
    "fig.canvas.mpl_connect('key_press_event', on_key_press_zplus) \n",
    "#connects our figure with our above function; tells the figure that it should expect a key_press\n",
    "\n",
    "def zoom_factory(ax,base_scale = 2.):\n",
    "    def zoom_fun(event):\n",
    "        # get the current x and y limits\n",
    "        cur_xlim = ax.get_xlim()\n",
    "        cur_ylim = ax.get_ylim()\n",
    "        cur_xrange = (cur_xlim[1] - cur_xlim[0])*.5\n",
    "        cur_yrange = (cur_ylim[1] - cur_ylim[0])*.5\n",
    "        xdata = event.xdata # get event x location\n",
    "        ydata = event.ydata # get event y location\n",
    "        if event.button == 'up':\n",
    "            # deal with zoom in\n",
    "            scale_factor = 1/base_scale\n",
    "        elif event.button == 'down':\n",
    "            # deal with zoom out\n",
    "            scale_factor = base_scale\n",
    "        else:\n",
    "            # deal with something that should never happen\n",
    "            scale_factor = 1\n",
    "            print (event.button)\n",
    "        # set new limits\n",
    "        ax.set_xlim([xdata - cur_xrange*scale_factor,\n",
    "                     xdata + cur_xrange*scale_factor])\n",
    "        ax.set_ylim([ydata - cur_yrange*scale_factor,\n",
    "                     ydata + cur_yrange*scale_factor])\n",
    "        plt.draw() # force re-draw\n",
    "\n",
    "    fig = ax.get_figure() # get the figure of interest\n",
    "    # attach the call back\n",
    "    fig.canvas.mpl_connect('scroll_event',zoom_fun)\n",
    "\n",
    "    #return the function\n",
    "    return zoom_fun\n",
    "\n",
    "\n",
    "ax.scatter(x, y, z, c = teff, cmap= 'plasma', s = 5*((10*stellar_mass)**2), marker = '*')\n",
    "scale = 1.5\n",
    "fig = zoom_factory(ax,base_scale = scale)\n",
    "\n",
    "\n"
   ]
  },
  {
   "cell_type": "code",
   "execution_count": null,
   "metadata": {},
   "outputs": [],
   "source": []
  },
  {
   "cell_type": "code",
   "execution_count": null,
   "metadata": {},
   "outputs": [],
   "source": []
  }
 ],
 "metadata": {
  "kernelspec": {
   "display_name": "Python 3",
   "language": "python",
   "name": "python3"
  },
  "language_info": {
   "codemirror_mode": {
    "name": "ipython",
    "version": 3
   },
   "file_extension": ".py",
   "mimetype": "text/x-python",
   "name": "python",
   "nbconvert_exporter": "python",
   "pygments_lexer": "ipython3",
   "version": "3.6.4"
  }
 },
 "nbformat": 4,
 "nbformat_minor": 2
}
