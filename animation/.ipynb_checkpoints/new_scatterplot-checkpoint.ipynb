{
 "cells": [
  {
   "cell_type": "code",
   "execution_count": 1,
   "metadata": {},
   "outputs": [
    {
     "name": "stdout",
     "output_type": "stream",
     "text": [
      "Using matplotlib backend: TkAgg\n",
      "Populating the interactive namespace from numpy and matplotlib\n"
     ]
    }
   ],
   "source": [
    "%pylab"
   ]
  },
  {
   "cell_type": "code",
   "execution_count": 2,
   "metadata": {},
   "outputs": [],
   "source": [
    "import matplotlib.pylab as plt\n",
    "\n",
    "import matplotlib.animation as animation\n",
    "import numpy as np\n",
    "from mpl_toolkits.mplot3d import Axes3D"
   ]
  },
  {
   "cell_type": "code",
   "execution_count": 3,
   "metadata": {},
   "outputs": [],
   "source": [
    "#create image with format (time,x,y)\n",
    "# image = np.random.rand(100,10,10)\n",
    "# this cell's code codes for the scatter plot to zoom outwards\n",
    "\n",
    "x = np.random.rand(100)*100 \n",
    "y = np.random.rand(100)*100\n",
    "z = np.random.rand(100)*100\n",
    "\n",
    "#setup figure\n",
    "fig = plt.figure()\n",
    "ax = fig.add_subplot(111, facecolor='LightCyan', projection = '3d')\n",
    "#set up viewing window (in this case the 25 most recent values)\n",
    "a = 30\n",
    "b = 30\n",
    "c = 30\n",
    "ax.set_xlim([0, a])\n",
    "ax.set_ylim([0,b])\n",
    "ax.set_zlim([0,c])\n",
    "\n",
    "\n",
    "#set up list of images for animation\n",
    "plot = ax.scatter(x, y, z, color='b', marker= '*',)\n",
    "\n",
    "def func(i):\n",
    "    if i>a:\n",
    "        lim = ax.set_xlim(0, i)\n",
    "    else:\n",
    "        # makes it look ok when the animation loops\n",
    "        lim = ax.set_xlim(0, a)\n",
    "        \n",
    "    if i>b:\n",
    "        lim = ax.set_ylim(0, i)\n",
    "    else:\n",
    "        # makes it look ok when the animation loops\n",
    "        lim = ax.set_ylim(0, b)\n",
    "    \n",
    "    if i>c:\n",
    "        lim = ax.set_zlim(0, i)\n",
    "    else:\n",
    "        # makes it look ok when the animation loops\n",
    "        lim = ax.set_zlim(0, c)\n",
    "        \n",
    "    return plot\n",
    "\n",
    "ani = animation.FuncAnimation(fig, func, frames=100, interval=30, blit=False)"
   ]
  },
  {
   "cell_type": "code",
   "execution_count": 4,
   "metadata": {},
   "outputs": [
    {
     "name": "stderr",
     "output_type": "stream",
     "text": [
      "/Users/elliannaschwab/anaconda3/lib/python3.6/site-packages/mpl_toolkits/mplot3d/axes3d.py:634: UserWarning: Attempting to set identical left==right results\n",
      "in singular transformations; automatically expanding.\n",
      "left=0, right=0\n",
      "  'left=%s, right=%s') % (left, right))\n",
      "/Users/elliannaschwab/anaconda3/lib/python3.6/site-packages/mpl_toolkits/mplot3d/axes3d.py:686: UserWarning: Attempting to set identical bottom==top results\n",
      "in singular transformations; automatically expanding.\n",
      "bottom=0, top=0\n",
      "  'bottom=%s, top=%s') % (bottom, top))\n",
      "/Users/elliannaschwab/anaconda3/lib/python3.6/site-packages/mpl_toolkits/mplot3d/axes3d.py:738: UserWarning: Attempting to set identical bottom==top results\n",
      "in singular transformations; automatically expanding.\n",
      "bottom=0, top=0\n",
      "  'bottom=%s, top=%s') % (bottom, top))\n",
      "Traceback (most recent call last):\n",
      "  File \"/Users/elliannaschwab/anaconda3/lib/python3.6/site-packages/matplotlib/cbook/__init__.py\", line 388, in process\n",
      "    proxy(*args, **kwargs)\n",
      "  File \"/Users/elliannaschwab/anaconda3/lib/python3.6/site-packages/matplotlib/cbook/__init__.py\", line 228, in __call__\n",
      "    return mtd(*args, **kwargs)\n",
      "  File \"/Users/elliannaschwab/anaconda3/lib/python3.6/site-packages/matplotlib/animation.py\", line 1081, in _start\n",
      "    self._init_draw()\n",
      "  File \"/Users/elliannaschwab/anaconda3/lib/python3.6/site-packages/matplotlib/animation.py\", line 1792, in _init_draw\n",
      "    self._draw_frame(next(self.new_frame_seq()))\n",
      "  File \"/Users/elliannaschwab/anaconda3/lib/python3.6/site-packages/matplotlib/animation.py\", line 1819, in _draw_frame\n",
      "    for a in self._drawn_artists:\n",
      "TypeError: 'Path3DCollection' object is not iterable\n"
     ]
    }
   ],
   "source": [
    "#create image with format (time,x,y)\n",
    "# image = np.random.rand(100,10,10)\n",
    "# this cell's code codes for the scatter plot to zoom outwards\n",
    "\n",
    "x = np.random.rand(100)*100 \n",
    "y = np.random.rand(100)*100\n",
    "z = np.random.rand(100)*100\n",
    "\n",
    "#setup figure\n",
    "fig = plt.figure()\n",
    "ax = fig.add_subplot(111, facecolor='LightCyan', projection = '3d')\n",
    "#set up viewing window (in this case the 25 most recent values)\n",
    "a = -100\n",
    "b = -100\n",
    "c = -100\n",
    "d = 100\n",
    "e = 100\n",
    "f = 100\n",
    "ax.set_xlim([-1, 1])\n",
    "ax.set_ylim([-1,1])\n",
    "ax.set_zlim([-1,1])\n",
    "\n",
    "\n",
    "#sets up list of images for animation\n",
    "plot = ax.scatter(x, y, z, color='b', marker= '*',)\n",
    "\n",
    "def func(i):\n",
    "    \n",
    "    x_lim = ax.set_xlim(-i,i)\n",
    "\n",
    "    y_lim = ax.set_ylim(-i, i)\n",
    "\n",
    "    z_lim = ax.set_zlim(-i, i)\n",
    "        \n",
    "    return plot\n",
    "\n",
    "ani = animation.FuncAnimation(fig, func, frames=100, interval=1000, blit=True)"
   ]
  },
  {
   "cell_type": "code",
   "execution_count": null,
   "metadata": {
    "collapsed": true
   },
   "outputs": [],
   "source": [
    "#(np.shape(image)[0]+1)/4\n",
    "#plt.plot(x,y)"
   ]
  },
  {
   "cell_type": "code",
   "execution_count": 5,
   "metadata": {
    "scrolled": false
   },
   "outputs": [
    {
     "name": "stderr",
     "output_type": "stream",
     "text": [
      "/Users/elliannaschwab/anaconda3/lib/python3.6/site-packages/mpl_toolkits/mplot3d/axes3d.py:634: UserWarning: Attempting to set identical left==right results\n",
      "in singular transformations; automatically expanding.\n",
      "left=0, right=0\n",
      "  'left=%s, right=%s') % (left, right))\n",
      "/Users/elliannaschwab/anaconda3/lib/python3.6/site-packages/mpl_toolkits/mplot3d/axes3d.py:686: UserWarning: Attempting to set identical bottom==top results\n",
      "in singular transformations; automatically expanding.\n",
      "bottom=0, top=0\n",
      "  'bottom=%s, top=%s') % (bottom, top))\n",
      "/Users/elliannaschwab/anaconda3/lib/python3.6/site-packages/mpl_toolkits/mplot3d/axes3d.py:738: UserWarning: Attempting to set identical bottom==top results\n",
      "in singular transformations; automatically expanding.\n",
      "bottom=0, top=0\n",
      "  'bottom=%s, top=%s') % (bottom, top))\n"
     ]
    }
   ],
   "source": [
    "d = 100\n",
    "e = 100\n",
    "f = 100\n",
    "\n",
    "fig = plt.figure()\n",
    "ax = fig.add_subplot(111, facecolor='LightCyan', projection = '3d')\n",
    "plot = ax.scatter(x, y, z, color='b', marker= '*',)\n",
    "\n",
    "def func(i):\n",
    "    if i<d:\n",
    "        lim = ax.set_xlim(0, i)\n",
    "    else:\n",
    "        lim = ax.set_xlim(0, d)\n",
    "        \n",
    "    if i<e:\n",
    "        lim = ax.set_ylim(0, i)\n",
    "    else:\n",
    "        lim = ax.set_ylim(0, e)\n",
    "    \n",
    "    if i<f:\n",
    "        lim = ax.set_zlim(0, i)\n",
    "    else:\n",
    "        lim = ax.set_zlim(0, f)\n",
    "        \n",
    "    return plot\n",
    "\n",
    "ani = animation.FuncAnimation(fig, func, frames=100, interval=120, blit=False)"
   ]
  },
  {
   "cell_type": "code",
   "execution_count": null,
   "metadata": {
    "collapsed": true
   },
   "outputs": [],
   "source": []
  }
 ],
 "metadata": {
  "kernelspec": {
   "display_name": "Python 3",
   "language": "python",
   "name": "python3"
  },
  "language_info": {
   "codemirror_mode": {
    "name": "ipython",
    "version": 3
   },
   "file_extension": ".py",
   "mimetype": "text/x-python",
   "name": "python",
   "nbconvert_exporter": "python",
   "pygments_lexer": "ipython3",
   "version": "3.6.4"
  }
 },
 "nbformat": 4,
 "nbformat_minor": 2
}
